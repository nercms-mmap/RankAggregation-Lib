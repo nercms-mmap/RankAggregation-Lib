{
 "cells": [
  {
   "cell_type": "markdown",
   "metadata": {},
   "source": [
    "The following statements demonstrate the imports of all rank aggregation methods in a typical jupyter notebook."
   ]
  },
  {
   "cell_type": "code",
   "execution_count": 2,
   "metadata": {},
   "outputs": [],
   "source": [
    "from Agglomerative import Agglomerative\n",
    "from Condorcet import Condorcet\n",
    "from Copeland import Copeland\n",
    "from Outranking import Outranking\n",
    "from WT_INDEG import PreferenceRelationsGraph\n",
    "from MarkovChain import MarKovChainMethod\n"
   ]
  },
  {
   "cell_type": "markdown",
   "metadata": {},
   "source": [
    "The following examples demonstrate the usage of all rank aggregation methods.\n",
    "\n",
    "Initially, we declare the one file of our sample dataset: MQ2007.csv that contains the input lists to be aggregated\n",
    "\n",
    "The format of the dataset is **Query / Voter / Item / Rank**"
   ]
  },
  {
   "cell_type": "code",
   "execution_count": 4,
   "metadata": {},
   "outputs": [],
   "source": [
    "input_file = r'MQ2007.csv'"
   ]
  },
  {
   "cell_type": "markdown",
   "metadata": {},
   "source": [
    "**Agglomerative**\n",
    "\n",
    "Documentation: Agglomerative.py\n",
    "\n",
    "The Agglomerative  supports the following parameters:\n",
    "\n",
    "| Parameter | Type | Default Value | Values |\n",
    "| ----------- | ----------- | ----------- | ----------- |\n",
    "| input | str | - | Represents the input path of the dataset file |\n",
    "| output | str | - | Represents the storage path for algorithm output files |\n",
    "| c1 | float | 2.5 |\n",
    "| c2 | float | 1.5 |\n",
    "| is_partial_list | bool | true | Determine whether it is partial sorting |\n",
    "\n",
    "\n",
    "\n",
    "\n"
   ]
  },
  {
   "cell_type": "code",
   "execution_count": null,
   "metadata": {},
   "outputs": [],
   "source": [
    "output_file = r'result_MQ2007_Agglomerative.csv'\n",
    "print('Running Agglomerative...')\n",
    "Agglomerative(input_file,output_file,2.5,1.5,True)"
   ]
  },
  {
   "cell_type": "markdown",
   "metadata": {},
   "source": [
    "**Condorcet**\n",
    "\n",
    "Documentation: Condorcet.py\n",
    "\n",
    "The Condorcet supports the following parameters:\n",
    "\n",
    "| Parameter | Type | Default Value | Values |\n",
    "| ----------- | ----------- | ----------- | ----------- |\n",
    "| input | str | - | Represents the input path of the dataset file |\n",
    "| output | str | - | Represents the storage path for algorithm output files\n",
    "\n",
    "\n"
   ]
  },
  {
   "cell_type": "code",
   "execution_count": null,
   "metadata": {},
   "outputs": [],
   "source": [
    "output_file = r'result_MQ2007_Condorcet.csv'\n",
    "print('Running Condorcet...')\n",
    "Condorcet(input_file,output_file)"
   ]
  },
  {
   "cell_type": "markdown",
   "metadata": {},
   "source": [
    "**Copeland**\n",
    "\n",
    "Documentation: Copeland.py\n",
    "\n",
    "The Copeland supports the following parameters:\n",
    "\n",
    "| Parameter | Type | Default Value | Values |\n",
    "| ----------- | ----------- | ----------- | ----------- |\n",
    "| input | str | - | Represents the input path of the dataset file |\n",
    "| output | str | - | Represents the storage path for algorithm output files\n"
   ]
  },
  {
   "cell_type": "code",
   "execution_count": null,
   "metadata": {},
   "outputs": [],
   "source": [
    "output_file = r'result_MQ2007_Copeland.csv'\n",
    "print('Running Copeland...')\n",
    "Copeland(input_file,output_file)"
   ]
  },
  {
   "cell_type": "markdown",
   "metadata": {},
   "source": [
    "**MarkovChain**\n",
    "\n",
    "The MarkovChain supports the following parameters:\n",
    "\n",
    "| Parameter | Type | Default Value | Values |\n",
    "| ----------- | ----------- | ----------- | ----------- |\n",
    "| input | str | - | Represents the input path of the dataset file |\n",
    "| output | str | - | Represents the storage path for algorithm output files |\n",
    "| MC_type| str | MC1 | \n",
    "| max_iteration | int | 50 | "
   ]
  },
  {
   "cell_type": "code",
   "execution_count": null,
   "metadata": {},
   "outputs": [],
   "source": [
    "output_file = r'result_MQ2007_MC1.csv'\n",
    "print('Running MC1...')\n",
    "MarKovChainMethod(input_file,output_file,'MC1')\n",
    "\n",
    "output_file = r'result_MQ2007_MC2.csv'\n",
    "print('Running MC2...')\n",
    "MarKovChainMethod(input_file,output_file,'MC2')\n",
    "\n",
    "output_file = r'result_MQ2007_MC3.csv'\n",
    "print('Running MC3...')\n",
    "MarKovChainMethod(input_file,output_file,'MC3')\n",
    "\n",
    "output_file = r'result_MQ2007_MC4.csv'\n",
    "print('Running MC4...')\n",
    "MarKovChainMethod(input_file,output_file,'MC4')\n"
   ]
  },
  {
   "cell_type": "markdown",
   "metadata": {},
   "source": [
    "**Outranking Approach**\n",
    "\n",
    "Documentation: Outranking.py\n",
    "\n",
    "The Outranking supports the following parameters:\n",
    "\n",
    "| Parameter | Type | Default Value | Values |\n",
    "| ----------- | ----------- | ----------- | ----------- |\n",
    "| input_file_path | str | - | Represents the input path of the dataset file |\n",
    "| output_file_path | str | - | Represents the storage path for algorithm output files |\n",
    "| PREF_THRESHOLD| float |  \n",
    "| VETO_THRESHOLD | float |  \n",
    "| CONC_THRESHOLD | float | \n",
    "| DISC_THRESHOLD | float | \n",
    "| is_partial_list | bool | "
   ]
  },
  {
   "cell_type": "code",
   "execution_count": null,
   "metadata": {},
   "outputs": [],
   "source": [
    "output_file = r'result_MQ2007_Outranking.csv'\n",
    "print('Running Outranking...')\n",
    "Outranking(input_file, output_file, 0.15, 0.3, 0.4, 0.2)"
   ]
  },
  {
   "cell_type": "markdown",
   "metadata": {},
   "source": [
    "**WT_INDEG**\n",
    "\n",
    "Documentation: WT_INDEG.py\n",
    "\n",
    "The WT_INDEG supports the following parameters:\n",
    "\n",
    "| Parameter | Type | Default Value | Values |\n",
    "| ----------- | ----------- | ----------- | ----------- |\n",
    "| input | str | - | Represents the input path of the dataset file |\n",
    "| output | str | - | Represents the storage path for algorithm output files |\n",
    "| alpha| float | 0.5 | \n",
    "| beta | float | 0.5 |\n",
    "\n",
    "\n",
    "\n"
   ]
  },
  {
   "cell_type": "code",
   "execution_count": null,
   "metadata": {},
   "outputs": [],
   "source": [
    "output_file = r'result_MQ2007_WT-INDEG.csv'\n",
    "print('Running WT-INDEG...')\n",
    "PreferenceRelationsGraph(input_file, output_file, 0.5, 0.5)"
   ]
  }
 ],
 "metadata": {
  "kernelspec": {
   "display_name": "ra_evaluation",
   "language": "python",
   "name": "python3"
  },
  "language_info": {
   "codemirror_mode": {
    "name": "ipython",
    "version": 3
   },
   "file_extension": ".py",
   "mimetype": "text/x-python",
   "name": "python",
   "nbconvert_exporter": "python",
   "pygments_lexer": "ipython3",
   "version": "3.9.18"
  }
 },
 "nbformat": 4,
 "nbformat_minor": 2
}
