{
 "cells": [
  {
   "cell_type": "markdown",
   "metadata": {},
   "source": [
    "Firstly, we conduct an ice-cream-flavor experiment which have four flavors and three voters. We provide ice-cream.csv file that store the information of this experiment."
   ]
  },
  {
   "cell_type": "markdown",
   "metadata": {},
   "source": [
    "Secondly, we also provide a variety of RA methods for experimental evaluation in ice-cream-flavor, these methods can be used in the .ipynb file or .py file."
   ]
  },
  {
   "cell_type": "markdown",
   "metadata": {},
   "source": [
    "Next is code of Condorcet method. "
   ]
  },
  {
   "cell_type": "code",
   "execution_count": 1,
   "metadata": {},
   "outputs": [],
   "source": [
    "import numpy as np\n",
    "import pandas as pd\n",
    "import csv\n",
    "\n",
    "def win(input_list, i, j):\n",
    "    num_voters = input_list.shape[0]\n",
    "    win_i = 0\n",
    "    win_j = 0\n",
    "    for k in range(num_voters):\n",
    "        if (np.isnan(input_list[k, i]) and np.isnan(input_list[k, j])):\n",
    "            continue\n",
    "        elif (np.isnan(input_list[k, i]) and ~np.isnan(input_list[k, j])):\n",
    "            win_j += 1\n",
    "        elif (~np.isnan(input_list[k, i]) and np.isnan(input_list[k, j])):\n",
    "            win_i += 1\n",
    "        elif (input_list[k, i] < input_list[k, j]):\n",
    "            win_i += 1\n",
    "        else:\n",
    "            win_j += 1\n",
    "    \n",
    "    if (win_i > win_j):\n",
    "        return 1\n",
    "    \n",
    "    elif (win_i < win_j):\n",
    "        return -1\n",
    "    else:\n",
    "        return 0\n",
    "\n",
    "\n",
    "def CondorcetAgg(input_list):\n",
    "    num_items = input_list.shape[1]\n",
    "    item_win_count = np.zeros(num_items)\n",
    "\n",
    "    for i in range(num_items):\n",
    "        for j in range(i + 1, num_items):\n",
    "            # 项目对(i, j)中 i 赢了\n",
    "            flag = win(input_list, i, j)\n",
    "            if (flag == 1):\n",
    "                item_win_count[i] += 1\n",
    "            # j 赢了\n",
    "            elif (flag == -1):\n",
    "                item_win_count[j] += 1\n",
    "            # 平局\n",
    "            else:\n",
    "                continue\n",
    "    \n",
    "    first_row = item_win_count\n",
    "    # 进行排序并返回排序后的列索引\n",
    "    sorted_indices = np.argsort(first_row)[::-1]\n",
    "    \n",
    "    currrent_rank = 1\n",
    "    result = np.zeros(num_items)\n",
    "    for index in sorted_indices:\n",
    "        result[index] = currrent_rank\n",
    "        currrent_rank += 1\n",
    "\n",
    "    return result\n",
    "\n",
    "\n",
    "def Condorcet(input, output):\n",
    "    df = pd.read_csv(input,header=None)\n",
    "    df.columns = ['Query','Voter Name', 'Item Code', 'Item Rank']\n",
    "\n",
    "    # 获取唯一的Query值\n",
    "    unique_queries = df['Query'].unique()\n",
    "    # 创建一个空的DataFrame来存储结果\n",
    "    result = []\n",
    "\n",
    "    for query in unique_queries:\n",
    "        # 筛选出当前Query的数据\n",
    "        query_data = df[df['Query'] == query]\n",
    "\n",
    "        # 创建空字典来保存Item Code和Voter Name的映射关系\n",
    "        item_code_mapping = {}\n",
    "        voter_name_mapping = {}\n",
    "\n",
    "        # 获取唯一的Item Code和Voter Name值，并创建索引到整数的映射\n",
    "        unique_item_codes = query_data['Item Code'].unique()\n",
    "        unique_voter_names = query_data['Voter Name'].unique()\n",
    "\n",
    "        # 建立整数到字符串的逆向映射\n",
    "        item_code_reverse_mapping = {i: code for i, code in enumerate(unique_item_codes)}\n",
    "        voter_name_reverse_mapping = {i: name for i, name in enumerate(unique_voter_names)}\n",
    "\n",
    "        # 生成字符串到整数的映射\n",
    "        item_code_mapping = {v: k for k, v in item_code_reverse_mapping.items()}\n",
    "        voter_name_mapping = {v: k for k, v in voter_name_reverse_mapping.items()}\n",
    "\n",
    "        # 创建Voter Name*Item Code的二维Numpy数组，初始值为0\n",
    "        num_voters = len(unique_voter_names)\n",
    "        num_items = len(unique_item_codes)\n",
    "        #input_list = np.nan((num_voters, num_items))\n",
    "        input_list = np.full((num_voters, num_items), np.nan)\n",
    "\n",
    "        #填充数组\n",
    "        for index, row in query_data.iterrows():\n",
    "            voter_name = row['Voter Name']\n",
    "            item_code = row['Item Code']\n",
    "            item_rank = row['Item Rank']\n",
    "\n",
    "            voter_index = voter_name_mapping[voter_name]\n",
    "            item_index = item_code_mapping[item_code]\n",
    "\n",
    "            input_list[voter_index, item_index] = item_rank\n",
    "\n",
    "        # 调用函数，获取排名信息\n",
    "        rank = CondorcetAgg(input_list)\n",
    "\n",
    "        # 将结果添加到result_df中\n",
    "        for item_code_index, item_rank in enumerate(rank):   \n",
    "            item_code = item_code_reverse_mapping[item_code_index]\n",
    "            #result_df = result_df.append({'Query': query, 'Item Code': item_code, 'Rank': item_rank}, ignore_index=True)\n",
    "            new_row = [query, item_code, item_rank]\n",
    "            result.append(new_row)\n",
    "    \n",
    "    with open(output, mode='w', newline='') as file:\n",
    "        writer = csv.writer(file)\n",
    "        for row in result:\n",
    "            writer.writerow(row)"
   ]
  },
  {
   "cell_type": "markdown",
   "metadata": {},
   "source": [
    "Next, evaluate the method in Ice-cream-flavor"
   ]
  },
  {
   "cell_type": "code",
   "execution_count": 2,
   "metadata": {},
   "outputs": [
    {
     "name": "stdout",
     "output_type": "stream",
     "text": [
      "Running Condorcet...\n"
     ]
    }
   ],
   "source": [
    "\n",
    "input_file = r'D:\\Code of RA\\RA\\dataset\\ice-cream.csv'\n",
    "output_file = r'D:\\Code of RA\\RA\\results\\ice-cream_Condorcet.csv'\n",
    "print('Running Condorcet...')\n",
    "Condorcet(input_file, output_file)\n"
   ]
  }
 ],
 "metadata": {
  "kernelspec": {
   "display_name": "base",
   "language": "python",
   "name": "python3"
  },
  "language_info": {
   "codemirror_mode": {
    "name": "ipython",
    "version": 3
   },
   "file_extension": ".py",
   "mimetype": "text/x-python",
   "name": "python",
   "nbconvert_exporter": "python",
   "pygments_lexer": "ipython3",
   "version": "3.11.5"
  }
 },
 "nbformat": 4,
 "nbformat_minor": 2
}
