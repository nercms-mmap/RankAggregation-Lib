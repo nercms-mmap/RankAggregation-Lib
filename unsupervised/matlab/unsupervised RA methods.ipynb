{
 "cells": [
  {
   "cell_type": "markdown",
   "metadata": {},
   "source": [
    "The next code for score results convert to rank results."
   ]
  },
  {
   "cell_type": "code",
   "execution_count": 2,
   "metadata": {},
   "outputs": [
    {
     "name": "stdout",
     "output_type": "stream",
     "text": [
      "Conversion and saving completed\n"
     ]
    }
   ],
   "source": [
    "import numpy as np\n",
    "import scipy.io\n",
    "\n",
    "# Load the original data set file\n",
    "original_data = scipy.io.loadmat(r'D:\\Code of RA\\Preflib\\results\\ice-cream\\score-based\\result-ice-cream-Median.mat')['res'] # 'res' is the name of .mat file\n",
    "\n",
    "# Reprocess and sort scores\n",
    "sorted_indices = np.argsort(-original_data, axis=1)  # Sort the scores of each row in descending order and return the sorted index\n",
    "ranking = np.empty_like(sorted_indices)\n",
    "for i, row in enumerate(sorted_indices):\n",
    "    unique_values, value_indices = np.unique(original_data[i, row], return_inverse=True)\n",
    "    unique_rankings = np.arange(len(unique_values), 0, -1)\n",
    "    ranking[i, row] = unique_rankings[value_indices]  # Assign a new ranking to each score based on the sorted index\n",
    "\n",
    "# Save the converted results to a new .mat file\n",
    "result_dict = {'result': ranking}\n",
    "# The path is decided by yourself\n",
    "scipy.io.savemat(r'D:\\Code of RA\\Preflib\\results\\ice-cream\\rank-based\\rank-result-ice-cream-Median.mat', result_dict)\n",
    "\n",
    "print(\"Conversion and saving completed\")\n"
   ]
  },
  {
   "cell_type": "markdown",
   "metadata": {},
   "source": [
    "Next, We calculate Kemeny-Snell distance sum using these results produced by different unsupervised rank aggregation methods."
   ]
  },
  {
   "cell_type": "code",
   "execution_count": 4,
   "metadata": {},
   "outputs": [
    {
     "name": "stdout",
     "output_type": "stream",
     "text": [
      "Kemeny-Snell Distance Sum: 8.0\n"
     ]
    }
   ],
   "source": [
    "import numpy as np\n",
    "from scipy.io import loadmat\n",
    "\n",
    "def sign(x):\n",
    "    return 1 if x > 0 else -1\n",
    "\n",
    "def kemeny_snell_distance(a, b):\n",
    "    n = len(a)\n",
    "    sum_val = 0\n",
    "    for i in range(n):\n",
    "        for j in range(n):\n",
    "            if a[i] >= a[j]:\n",
    "                diff_a = a[i] - a[j]\n",
    "            else:\n",
    "                diff_a = 0-(a[j] - a[i])\n",
    "            if b[i] >= b[j]:                        \n",
    "                diff_b = b[i] - b[j]\n",
    "            else:\n",
    "                diff_b = 0-(b[j] - b[i])\n",
    "            sum_val += 0.5 * abs(sign(diff_a) - sign(diff_b))\n",
    "\n",
    "    return sum_val\n",
    "\n",
    "# Load data from .mat files\n",
    "matrix_pbd_data = loadmat('D:\\Code of RA\\Preflib\\Matrix-ice-cream.mat')\n",
    "matrix_pbd = matrix_pbd_data['matrix']  # Replace 'your_matrix_variable_name' with the actual variable name in the .mat file\n",
    "\n",
    "\n",
    "test_matrix_data = loadmat(r'D:\\Code of RA\\Preflib\\results\\ice-cream\\rank-based\\rank-result-ice-cream-BordaCount.mat')\n",
    "test_matrix = test_matrix_data['res']  # Replace 'your_test_matrix_variable_name' with the actual variable name in the .mat file\n",
    "\n",
    "# Calculate Kemeny-Snell distance sum\n",
    "kemeny_snell_sum = 0\n",
    "for row in test_matrix:\n",
    "    for matrix_row in matrix_pbd:\n",
    "        kemeny_snell_sum += kemeny_snell_distance(row, matrix_row)\n",
    "\n",
    "print(\"Kemeny-Snell Distance Sum:\", kemeny_snell_sum)"
   ]
  }
 ],
 "metadata": {
  "kernelspec": {
   "display_name": "base",
   "language": "python",
   "name": "python3"
  },
  "language_info": {
   "codemirror_mode": {
    "name": "ipython",
    "version": 3
   },
   "file_extension": ".py",
   "mimetype": "text/x-python",
   "name": "python",
   "nbconvert_exporter": "python",
   "pygments_lexer": "ipython3",
   "version": "3.9.12"
  }
 },
 "nbformat": 4,
 "nbformat_minor": 2
}
